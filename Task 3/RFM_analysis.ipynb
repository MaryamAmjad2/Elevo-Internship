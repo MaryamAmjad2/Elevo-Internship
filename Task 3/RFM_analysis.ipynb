{
 "cells": [
  {
   "cell_type": "code",
   "execution_count": null,
   "id": "f79792ed",
   "metadata": {},
   "outputs": [],
   "source": [
    "import pandas as pd \n",
    "import matplotlib.pyplot as plt\n",
    "import seaborn as sns\n",
    "df=pd.read_excel(\"Online Retail.xlsx\")\n",
    "df.to_csv(\"Online Retail.xlsx\",index= False)\n",
    "print(df.head())"
   ]
  },
  {
   "cell_type": "code",
   "execution_count": null,
   "id": "9fd55391",
   "metadata": {},
   "outputs": [],
   "source": [
    "\n",
    "df=df.dropna(subset=['CustomerID'])\n",
    "print(df.isnull().sum())"
   ]
  },
  {
   "cell_type": "code",
   "execution_count": null,
   "id": "ea08e5b8",
   "metadata": {},
   "outputs": [],
   "source": [
    "df['InvoiceDate'] = pd.to_datetime(df['InvoiceDate'])\n",
    "snapshot_date = df['InvoiceDate'].max() + pd.Timedelta(days=1)\n",
    "\n"
   ]
  },
  {
   "cell_type": "code",
   "execution_count": null,
   "id": "c094569d",
   "metadata": {},
   "outputs": [],
   "source": [
    "rfm = df.groupby('CustomerID').agg({\n",
    "    'InvoiceDate': lambda x: (snapshot_date - x.max()).days,  # Recency\n",
    "    'InvoiceNo': 'nunique',                                  # Frequency\n",
    "    'TotalPrice': 'sum'                                      # Monetary\n",
    "}).reset_index()\n",
    "\n",
    "rfm.rename(columns={\n",
    "    'InvoiceDate': 'Recency',\n",
    "    'InvoiceNo': 'Frequency',\n",
    "    'TotalPrice': 'Monetary'\n",
    "}, inplace=True)"
   ]
  },
  {
   "cell_type": "code",
   "execution_count": null,
   "id": "494e1a7d",
   "metadata": {},
   "outputs": [],
   "source": [
    "rfm['R_Score'] = pd.cut(rfm['Recency'], bins=5, labels=[5,4,3,2,1])\n",
    "rfm['F_Score'] = pd.cut(rfm['Frequency'], bins=5, labels=[1,2,3,4,5])\n",
    "rfm['M_Score'] = pd.cut(rfm['Monetary'], bins=5, labels=[1,2,3,4,5])\n",
    "\n",
    "# Combine RFM score\n",
    "rfm['RFM_Score'] = rfm[['R_Score','F_Score','M_Score']].astype(int).sum(axis=1)"
   ]
  },
  {
   "cell_type": "code",
   "execution_count": null,
   "id": "83d426d9",
   "metadata": {},
   "outputs": [],
   "source": [
    "def segment_me(score):\n",
    "    if score >= 12:\n",
    "        return 'Champions'\n",
    "    elif score >= 9:\n",
    "        return 'Loyal Customers'\n",
    "    elif score >= 6:\n",
    "        return 'Potential Loyalist'\n",
    "    else:\n",
    "        return 'At Risk / Lost'\n",
    "\n",
    "rfm['Segment'] = rfm['RFM_Score'].apply(segment_me)"
   ]
  },
  {
   "cell_type": "code",
   "execution_count": null,
   "id": "f49d2614",
   "metadata": {},
   "outputs": [],
   "source": [
    "plt.figure(figsize=(8,5))\n",
    "sns.countplot(data=rfm, x='Segment', order=rfm['Segment'].value_counts().index)\n",
    "plt.title(\"Customer Segments Distribution\")\n",
    "plt.ylabel(\"Number of Customers\")\n",
    "plt.xticks(rotation=30)\n",
    "plt.show()\n",
    "\n",
    "# Heatmap of average RFM scores per segment\n",
    "rfm_mean = rfm.groupby('Segment')[['Recency','Frequency','Monetary']].mean()\n",
    "\n",
    "plt.figure(figsize=(8,5))\n",
    "sns.heatmap(rfm_mean, annot=True, fmt=\".1f\", cmap=\"Blues\")\n",
    "plt.title(\"Average RFM Values by Segment\")\n",
    "plt.show()\n",
    "\n",
    "print(rfm)"
   ]
  }
 ],
 "metadata": {
  "kernelspec": {
   "display_name": "base",
   "language": "python",
   "name": "python3"
  },
  "language_info": {
   "codemirror_mode": {
    "name": "ipython",
    "version": 3
   },
   "file_extension": ".py",
   "mimetype": "text/x-python",
   "name": "python",
   "nbconvert_exporter": "python",
   "pygments_lexer": "ipython3",
   "version": "3.12.7"
  }
 },
 "nbformat": 4,
 "nbformat_minor": 5
}

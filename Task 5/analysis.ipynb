
import os
import pandas as pd
import matplotlib.pyplot as plt
import numpy as np
from datetime import datetime

# ----------------------------
# CONFIG - change these paths if needed
# ----------------------------
sales_csv = "db/train.csv"   # change to your file name, or path
output_dir = "walmart_plots"
os.makedirs(output_dir, exist_ok=True)

# Rolling window sizes (in months) for moving averages
short_window = 3
long_window = 12

# ----------------------------
# Helper: try to find sales file if default missing
# ----------------------------
if not os.path.exists(sales_csv):
    # try to find any csv file in current directory
    csvs = [f for f in os.listdir('.') if f.lower().endswith('.csv')]
    if len(csvs) == 0:
        raise FileNotFoundError(f"No CSV found and default '{sales_csv}' missing. Put your dataset CSV in this folder.")
    sales_csv = csvs[0]
    print(f"Auto-picked CSV: {sales_csv}")

print("Loading:", sales_csv)

# ----------------------------
# 1. Load data (flexible)
# ----------------------------
df = pd.read_csv(sales_csv)

# quick preview
print("Columns found:", list(df.columns[:20]))

# Try to detect primary columns
date_col = None
sales_col = None
store_col = None
prod_col = None  # dept/item/category
region_col = None

colnames = [c.lower() for c in df.columns]

# find date
for c in df.columns:
    if c.lower() in ("date", "invoiceDate", "invoice_date"):
        date_col = c
        break
# fallback: look for column with 'date' in name
if date_col is None:
    for c in df.columns:
        if 'date' in c.lower():
            date_col = c
            break
if date_col is None:
    raise ValueError("Could not detect a date column. Please ensure your CSV has a date column (e.g., 'Date').")

# find sales column
for c in df.columns:
    if c.lower() in ("weekly_sales", "sales", "total", "amount", "revenue"):
        sales_col = c
        break
if sales_col is None:
    # fallback: look for numeric columns other than id-like
    numeric_cols = df.select_dtypes(include=[np.number]).columns.tolist()
    if len(numeric_cols) >= 1:
        sales_col = numeric_cols[0]
if sales_col is None:
    raise ValueError("Could not detect a sales column. Please ensure your CSV has a sales/revenue numeric column.")

# find store/region/product columns
for c in df.columns:
    if c.lower() in ("store", "store_nbr", "store_id"):
        store_col = c
    if c.lower() in ("dept", "department", "item", "product", "sku"):
        prod_col = prod_col or c
    if c.lower() in ("region", "state", "country"):
        region_col = region_col or c

# If no product col, maybe dataset uses 'Dept' or 'Category'
if prod_col is None:
    for c in df.columns:
        if any(k in c.lower() for k in ("dept","cat","product","item","sku")):
            prod_col = c
            break

print(f"Detected columns -> date: {date_col}, sales: {sales_col}, store: {store_col}, product: {prod_col}, region: {region_col}")

# ----------------------------
# 2. Prepare Data (parse dates, aggregate monthly)
# ----------------------------
df[date_col] = pd.to_datetime(df[date_col], errors='coerce')
if df[date_col].isnull().any():
    print("Warning: Some dates could not be parsed. First few unparsable rows:")
    print(df[df[date_col].isnull()].head())

# Create Year-Month column for monthly aggregation
df['YearMonth'] = df[date_col].dt.to_period('M').dt.to_timestamp()

# Keep only relevant cols
basic_cols = [c for c in [date_col, 'YearMonth', sales_col, store_col, prod_col, region_col] if c is not None]
df = df[basic_cols].copy()

# Ensure sales column is numeric
df[sales_col] = pd.to_numeric(df[sales_col], errors='coerce').fillna(0)

# Aggregate monthly total sales (global)
monthly = df.groupby('YearMonth', as_index=True)[sales_col].sum().sort_index()
monthly = monthly.rename("TotalSales")
monthly_df = monthly.reset_index()

# ----------------------------
# 3. Plot overall trend + moving averages
# ----------------------------
plt.figure(figsize=(12,5))
plt.plot(monthly_df['YearMonth'], monthly_df['TotalSales'], marker='o', label='Monthly Sales')
plt.title('Monthly Sales - Trend')
plt.xlabel('Month')
plt.ylabel('Sales')
plt.grid(True)

# Moving averages (in months) - using rolling on the monthly series
monthly_df['MA_short'] = monthly_df['TotalSales'].rolling(window=short_window, min_periods=1).mean()
monthly_df['MA_long']  = monthly_df['TotalSales'].rolling(window=long_window, min_periods=1).mean()
plt.plot(monthly_df['YearMonth'], monthly_df['MA_short'], label=f'{short_window}-month MA', linewidth=2)
plt.plot(monthly_df['YearMonth'], monthly_df['MA_long'], label=f'{long_window}-month MA', linewidth=2)
plt.legend()
plt.tight_layout()
plt.savefig(os.path.join(output_dir, 'monthly_trend_moving_averages.png'))
print("Saved:", os.path.join(output_dir, 'monthly_trend_moving_averages.png'))
plt.show()

# ----------------------------
# 4. Seasonal pattern: average by month-of-year
# ----------------------------
# Extract month number and name
monthly_df['MonthNum'] = monthly_df['YearMonth'].dt.month
monthly_df['MonthName'] = monthly_df['YearMonth'].dt.strftime('%b')

seasonal = monthly_df.groupby('MonthNum')['TotalSales'].mean().reindex(range(1,13))
months = [datetime(2000, m, 1).strftime('%b') for m in seasonal.index]

plt.figure(figsize=(10,4))
plt.bar(months, seasonal.values)
plt.title('Average Sales by Month (Seasonal Pattern)')
plt.xlabel('Month')
plt.ylabel('Average Sales')
plt.tight_layout()
plt.savefig(os.path.join(output_dir, 'seasonal_by_month.png'))
print("Saved:", os.path.join(output_dir, 'seasonal_by_month.png'))
plt.show()

# ----------------------------
# 5. Heatmap-style seasonal view (years x months)
# ----------------------------
pivot = monthly_df.pivot_table(index=monthly_df['YearMonth'].dt.year, columns=monthly_df['YearMonth'].dt.month, values='TotalSales', aggfunc='sum')
plt.figure(figsize=(10,6))
plt.imshow(pivot.fillna(0), aspect='auto', interpolation='nearest')
plt.colorbar(label='Sales')
plt.title('Heatmap: Sales by Year (rows) and Month (cols)')
plt.xlabel('Month')
plt.ylabel('Year')
plt.xticks(range(12), [datetime(2000, m+1, 1).strftime('%b') for m in range(12)])
plt.yticks(range(len(pivot.index)), pivot.index)
plt.tight_layout()
plt.savefig(os.path.join(output_dir, 'sales_heatmap_year_month.png'))
print("Saved:", os.path.join(output_dir, 'sales_heatmap_year_month.png'))
plt.show()

# ----------------------------
# 6. Revenue breakdown by product (top N departments/items)
# ----------------------------
if prod_col is not None:
    # Monthly revenue per product (top N by total revenue)
    prod_totals = df.groupby(prod_col)[sales_col].sum().sort_values(ascending=False)
    topN = 8
    top_products = prod_totals.head(topN).index.tolist()
    print(f"Top {topN} products/departments by revenue:\n", prod_totals.head(topN))

    prod_monthly = df[df[prod_col].isin(top_products)].groupby(['YearMonth', prod_col])[sales_col].sum().unstack(fill_value=0)
    prod_monthly.plot(kind='line', figsize=(12,6), marker='o')
    plt.title(f'Monthly Revenue for Top {topN} Products/Departments')
    plt.xlabel('Month')
    plt.ylabel('Sales')
    plt.legend(title=prod_col, bbox_to_anchor=(1.02, 1), loc='upper left')
    plt.tight_layout()
    fname = os.path.join(output_dir, f'top_{topN}_products_monthly.png')
    plt.savefig(fname)
    print("Saved:", fname)
    plt.show()
else:
    print("No product/department column detected - skipping product breakdown.")

# ----------------------------
# 7. Revenue breakdown by region/store
# ----------------------------
if store_col is not None or region_col is not None:
    # Prefer region for aggregation if present
    loc_col = region_col if region_col is not None else store_col
    # Find top locations
    loc_totals = df.groupby(loc_col)[sales_col].sum().sort_values(ascending=False)
    topL = 8
    top_locs = loc_totals.head(topL).index.tolist()
    print(f"Top {topL} locations by revenue:\n", loc_totals.head(topL))

    loc_monthly = df[df[loc_col].isin(top_locs)].groupby(['YearMonth', loc_col])[sales_col].sum().unstack(fill_value=0)
    loc_monthly.plot(kind='line', figsize=(12,6), marker='o')
    plt.title(f'Monthly Revenue for Top {topL} Locations ({loc_col})')
    plt.xlabel('Month')
    plt.ylabel('Sales')
    plt.legend(title=loc_col, bbox_to_anchor=(1.02, 1), loc='upper left')
    plt.tight_layout()
    fname = os.path.join(output_dir, f'top_{topL}_locations_monthly.png')
    plt.savefig(fname)
    print("Saved:", fname)
    plt.show()
else:
    print("No store/region column detected - skipping location breakdown.")

# ----------------------------
# 8. Save aggregated tables to CSV for reporting
# ----------------------------
monthly_df.to_csv(os.path.join(output_dir, 'monthly_sales_summary.csv'), index=False)
print("Saved aggregated monthly CSV:", os.path.join(output_dir, 'monthly_sales_summary.csv'))

if prod_col is not None:
    prod_monthly.reset_index().to_csv(os.path.join(output_dir, 'product_monthly.csv'), index=False)
    print("Saved product-monthly CSV:", os.path.join(output_dir, 'product_monthly.csv'))

if (store_col is not None) or (region_col is not None):
    loc_monthly.reset_index().to_csv(os.path.join(output_dir, 'location_monthly.csv'), index=False)
    print("Saved location-monthly CSV:", os.path.join(output_dir, 'location_monthly.csv'))

print("\nAll done. Plots and CSVs are in folder:", output_dir)
